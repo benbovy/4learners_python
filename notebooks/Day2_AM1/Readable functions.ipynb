{
 "cells": [
  {
   "cell_type": "code",
   "execution_count": null,
   "metadata": {
    "collapsed": true
   },
   "outputs": [],
   "source": [
    "def s(p):\n",
    "    a = 0\n",
    "    for v in p:\n",
    "        a += v\n",
    "    m = a / len(p)\n",
    "    d = 0\n",
    "    for v in p:\n",
    "        d += (v - m) * (v - m)\n",
    "    return numpy.sqrt(d / (len(p) - 1))\n",
    "\n",
    "def std_dev(sample):\n",
    "    sample_sum = 0\n",
    "    for value in sample:\n",
    "        sample_sum += value\n",
    "\n",
    "    sample_mean = sample_sum / len(sample)\n",
    "\n",
    "    sum_squared_devs = 0\n",
    "    for value in sample:\n",
    "        sum_squared_devs += (value - sample_mean) * (value - sample_mean)\n",
    "\n",
    "    return numpy.sqrt(sum_squared_devs / (len(sample) - 1))"
   ]
  }
 ],
 "metadata": {
  "kernelspec": {
   "display_name": "Python 3",
   "language": "python",
   "name": "python3"
  },
  "language_info": {
   "codemirror_mode": {
    "name": "ipython",
    "version": 3
   },
   "file_extension": ".py",
   "mimetype": "text/x-python",
   "name": "python",
   "nbconvert_exporter": "python",
   "pygments_lexer": "ipython3",
   "version": "3.6.0"
  }
 },
 "nbformat": 4,
 "nbformat_minor": 2
}
