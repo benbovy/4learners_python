{
 "cells": [
  {
   "cell_type": "code",
   "execution_count": 1,
   "metadata": {
    "collapsed": true
   },
   "outputs": [],
   "source": [
    "import numpy as np\n",
    "import numba as nb"
   ]
  },
  {
   "cell_type": "code",
   "execution_count": 2,
   "metadata": {
    "collapsed": true
   },
   "outputs": [],
   "source": [
    "def process_number(x):\n",
    "    if x > 0:\n",
    "        res = np.floor(x % 3)\n",
    "    else:\n",
    "        res = np.floor(x % 5)\n",
    "    return res"
   ]
  },
  {
   "cell_type": "code",
   "execution_count": 3,
   "metadata": {
    "collapsed": false
   },
   "outputs": [
    {
     "data": {
      "text/plain": [
       "0.0"
      ]
     },
     "execution_count": 3,
     "metadata": {},
     "output_type": "execute_result"
    }
   ],
   "source": [
    "process_number(0.3)"
   ]
  },
  {
   "cell_type": "code",
   "execution_count": 4,
   "metadata": {
    "collapsed": true
   },
   "outputs": [],
   "source": [
    "def process_loop(x):\n",
    "    res = np.empty_like(x)\n",
    "    for i in range(len(x)):\n",
    "        if x[i] > 0:\n",
    "            res[i] = np.floor(x[i] % 3)\n",
    "        else:\n",
    "            res[i] = np.floor(x[i] % 5)\n",
    "    return res\n",
    "\n",
    "\n",
    "def process_numpy(x):\n",
    "    \n",
    "    res = np.empty_like(x)\n",
    "\n",
    "    idx = np.where(x > 0)    \n",
    "    res[idx] = np.floor(x[idx] % 3)\n",
    "\n",
    "    idx = np.where(x <= 0)\n",
    "    res[idx] = np.floor(x[idx] % 5)\n",
    "\n",
    "    return res\n",
    "\n",
    "\n",
    "@nb.jit\n",
    "def process_numba(x):\n",
    "    res = np.empty_like(x)\n",
    "    for i in range(len(x)):\n",
    "        if x[i] > 0:\n",
    "            res[i] = np.floor(x[i] % 3)\n",
    "        else:\n",
    "            res[i] = np.floor(x[i] % 5)\n",
    "    return res"
   ]
  },
  {
   "cell_type": "code",
   "execution_count": 5,
   "metadata": {
    "collapsed": false
   },
   "outputs": [
    {
     "data": {
      "text/plain": [
       "array([ 2.,  0.,  1.,  2.,  0.,  1.,  2.,  0.,  1.,  2.,  0.,  1.,  2.,\n",
       "        0.,  1.,  2.,  0.,  1.,  2.,  0.,  1.,  2.,  0.,  1.,  2.,  0.,\n",
       "        1.,  2.,  0.,  1.,  2.,  0.,  1.,  2.,  0.,  1.,  2.,  0.,  1.,\n",
       "        2.,  0.,  1.,  2.,  0.,  1.,  2.,  0.,  1.,  2.,  0.,  1.,  2.,\n",
       "        0.,  1.,  2.,  0.,  1.,  2.,  0.,  1.,  2.,  0.,  1.,  2.,  0.,\n",
       "        1.,  2.,  0.,  1.,  2.,  0.,  1.,  2.,  0.,  1.,  2.,  0.,  1.,\n",
       "        2.,  0.])"
      ]
     },
     "execution_count": 5,
     "metadata": {},
     "output_type": "execute_result"
    }
   ],
   "source": [
    "numbers = np.linspace(-100000,100000, 200000)\n",
    "process_loop(numbers)[-200:-120]"
   ]
  },
  {
   "cell_type": "code",
   "execution_count": 6,
   "metadata": {
    "collapsed": false
   },
   "outputs": [
    {
     "name": "stdout",
     "output_type": "stream",
     "text": [
      "1 loop, best of 3: 212 ms per loop\n",
      "100 loops, best of 3: 4.99 ms per loop\n",
      "The slowest run took 62.84 times longer than the fastest. This could mean that an intermediate result is being cached.\n",
      "1000 loops, best of 3: 1.66 ms per loop\n",
      "100 loops, best of 3: 6.76 ms per loop\n"
     ]
    }
   ],
   "source": [
    "%timeit process_loop(numbers)\n",
    "%timeit process_numpy(numbers)\n",
    "%timeit process_numba(numbers)\n",
    "%timeit np.floor(np.where(numbers > 0, numbers % 3, numbers % 5))"
   ]
  },
  {
   "cell_type": "code",
   "execution_count": 7,
   "metadata": {
    "collapsed": true
   },
   "outputs": [],
   "source": [
    "@np.vectorize\n",
    "def process_numpy_vec(x):\n",
    "    if x > 0:\n",
    "        res = np.floor(x % 3)\n",
    "    else:\n",
    "        res = np.floor(x % 5)\n",
    "    return res\n",
    "\n",
    "\n",
    "@nb.vectorize\n",
    "def process_numba_vec(x):\n",
    "    if x > 0:\n",
    "        res = np.floor(x % 3)\n",
    "    else:\n",
    "        res = np.floor(x % 5)\n",
    "    return res"
   ]
  },
  {
   "cell_type": "code",
   "execution_count": 8,
   "metadata": {
    "collapsed": false
   },
   "outputs": [
    {
     "name": "stdout",
     "output_type": "stream",
     "text": [
      "10 loops, best of 3: 149 ms per loop\n",
      "The slowest run took 23.21 times longer than the fastest. This could mean that an intermediate result is being cached.\n",
      "1000 loops, best of 3: 1.48 ms per loop\n"
     ]
    }
   ],
   "source": [
    "%timeit process_numpy_vec(numbers)\n",
    "%timeit process_numba_vec(numbers)"
   ]
  },
  {
   "cell_type": "markdown",
   "metadata": {},
   "source": [
    "# A note on ufuncs\n",
    "\n",
    "Numba vectorize actually creates numpy ufuncs. These are very flexible, and very powerful but can be a bit arcane.\n",
    "\n",
    "Look up the details on ufuncs at https://docs.scipy.org/doc/numpy/reference/ufuncs.html.\n",
    "\n",
    "Numbas documentation is here: http://numba.pydata.org/numba-doc/dev/user/vectorize.html"
   ]
  },
  {
   "cell_type": "code",
   "execution_count": 9,
   "metadata": {
    "collapsed": false
   },
   "outputs": [
    {
     "data": {
      "text/plain": [
       "array([[ 2.  ,  2.25,  2.5 ,  2.75,  3.  ],\n",
       "       [ 2.25,  2.5 ,  2.75,  3.  ,  3.25],\n",
       "       [ 2.5 ,  2.75,  3.  ,  3.25,  3.5 ],\n",
       "       [ 2.75,  3.  ,  3.25,  3.5 ,  3.75],\n",
       "       [ 3.  ,  3.25,  3.5 ,  3.75,  4.  ]])"
      ]
     },
     "execution_count": 9,
     "metadata": {},
     "output_type": "execute_result"
    }
   ],
   "source": [
    "@nb.vectorize\n",
    "def add(x,y):\n",
    "    return x + y\n",
    "\n",
    "# Make sure that add is compiled for floats:\n",
    "add(0., 0.)\n",
    "\n",
    "# Now we can use add.outer to create an outer product.\n",
    "# Great for making distance matrices for example:\n",
    "add.outer(np.linspace(0,1,5),np.linspace(2,3,5))"
   ]
  },
  {
   "cell_type": "code",
   "execution_count": null,
   "metadata": {
    "collapsed": true
   },
   "outputs": [],
   "source": []
  }
 ],
 "metadata": {
  "kernelspec": {
   "display_name": "Python 3",
   "language": "python",
   "name": "python3"
  },
  "language_info": {
   "codemirror_mode": {
    "name": "ipython",
    "version": 3
   },
   "file_extension": ".py",
   "mimetype": "text/x-python",
   "name": "python",
   "nbconvert_exporter": "python",
   "pygments_lexer": "ipython3",
   "version": "3.6.0"
  }
 },
 "nbformat": 4,
 "nbformat_minor": 2
}
