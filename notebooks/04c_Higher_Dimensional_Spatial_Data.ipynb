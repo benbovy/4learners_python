{
 "cells": [
  {
   "cell_type": "markdown",
   "metadata": {},
   "source": [
    "# Analysis of Higher Dimensional (Spatial) Data"
   ]
  },
  {
   "cell_type": "markdown",
   "metadata": {},
   "source": [
    "### Research question:\n",
    "\n",
    "**On global scale earth surface temperatures are rising significantely. What about Potsdam, Germany?**\n",
    "\n",
    "***"
   ]
  },
  {
   "cell_type": "code",
   "execution_count": null,
   "metadata": {},
   "outputs": [],
   "source": [
    "import numpy as np\n",
    "import xarray as xr\n",
    "import pandas as pd\n",
    "import matplotlib.pyplot as plt\n",
    "import cartopy.crs as ccrs\n",
    "%matplotlib inline"
   ]
  },
  {
   "cell_type": "code",
   "execution_count": null,
   "metadata": {},
   "outputs": [],
   "source": [
    "plt.rcParams['figure.figsize'] = (12,6)"
   ]
  },
  {
   "cell_type": "markdown",
   "metadata": {},
   "source": [
    "***\n",
    "\n",
    "## Global Mean Temperatur Data"
   ]
  },
  {
   "cell_type": "markdown",
   "metadata": {},
   "source": [
    "Source: [Berkeley Earth](http://berkeleyearth.org/data/)"
   ]
  },
  {
   "cell_type": "code",
   "execution_count": null,
   "metadata": {},
   "outputs": [],
   "source": [
    "## Load data from the net\n",
    "#URL = \"http://berkeleyearth.lbl.gov/auto/Global/Complete_TAVG_complete.txt\"\n",
    "#df_glob = pd.read_csv(URL, skiprows=33, delim_whitespace=True)\n",
    "\n",
    "## Alternative: load from disk\n",
    "DATA = \"../data/Complete_TAVG_complete.txt\"\n",
    "df_glob = pd.read_csv(DATA, skiprows=33, delim_whitespace=True)\n",
    "df_glob.head()"
   ]
  },
  {
   "cell_type": "code",
   "execution_count": null,
   "metadata": {},
   "outputs": [],
   "source": [
    "df_glob = df_glob.iloc[:,[0,1,2,3]]\n",
    "df_glob.columns = ['year', 'month', 'anomaly', 'uncertainty']\n",
    "df_glob.sample(10)"
   ]
  },
  {
   "cell_type": "code",
   "execution_count": null,
   "metadata": {},
   "outputs": [],
   "source": [
    "df_glob.index = pd.to_datetime(df_glob['year'].astype(str) + '/' + df_glob['month'].astype(str), \n",
    "                               format=\"%Y/%m\").dt.to_period('M')\n",
    "df_glob.sample(10)"
   ]
  },
  {
   "cell_type": "code",
   "execution_count": null,
   "metadata": {},
   "outputs": [],
   "source": [
    "df_glob.anomaly.plot(color='k', label=\"temperature anomaly\")\n",
    "w=12*10 # 10-year window \n",
    "df_glob_anomaly = df_glob.anomaly.rolling(window=w, center=True).mean()\n",
    "df_glob_anomaly.plot(color=\"r\", label='10-year mean')\n",
    "plt.fill_between(x=df_glob.index, \n",
    "                 y1=(df_glob.anomaly + df_glob.uncertainty).rolling(window=w, center=True).mean(),\n",
    "                 y2=(df_glob.anomaly - df_glob.uncertainty).rolling(window=w, center=True).mean(),\n",
    "                color=\"gray\", label='uncertainty')\n",
    "plt.ylabel('Temperature anomaly [°C]')\n",
    "plt.title(\"Temperature anomaly relative to the 1951-1980 average\")\n",
    "plt.legend();"
   ]
  },
  {
   "cell_type": "code",
   "execution_count": null,
   "metadata": {},
   "outputs": [],
   "source": [
    "df_glob_anomaly = pd.DataFrame(df_glob_anomaly.dropna())\n",
    "df_glob_anomaly.head(10)"
   ]
  },
  {
   "cell_type": "markdown",
   "metadata": {},
   "source": [
    "***\n",
    "\n",
    "## Gridded Data Set"
   ]
  },
  {
   "cell_type": "markdown",
   "metadata": {},
   "source": [
    "Resources: [Overview of current atmospheric reanalyses](http://reanalyses.org/atmosphere/overview-current-atmospheric-reanalyses)"
   ]
  },
  {
   "cell_type": "markdown",
   "metadata": {},
   "source": [
    "### ECMWF CERA-20C: 1901-2010\n",
    "\n",
    "[What is CERA-20C](https://software.ecmwf.int/wiki/display/CKB/What+is+CERA-20C)\n",
    "\n",
    "[Monthly Means of Daily Mean](https://www.ecmwf.int/en/research/climate-reanalysis/cera-20c)\n",
    "\n",
    "Stream: Ensemble data assimilation monthly means of daily means  \n",
    "Area: 73.5°N 27.0°W 33.0°N 45.0°E  \n",
    "Type: Analysis  \n",
    "Number: 0 to 9  \n",
    "Version: 1  \n",
    "Grid: 1.0° x 1.0°   \n",
    "Type of level: Surface  \n",
    "Parameter: 2 metre temperature  \n",
    "Class: ERA-CLIM2 coupled reanalysis of the 20th-century (CERA-20C) "
   ]
  },
  {
   "cell_type": "markdown",
   "metadata": {},
   "source": [
    "### Load data set"
   ]
  },
  {
   "cell_type": "code",
   "execution_count": null,
   "metadata": {},
   "outputs": [],
   "source": [
    "FILENAME = \"_grib2netcdf-atls06-95e2cf679cd58ee9b4db4dd119a05a8d-b0bnA_.nc\"\n",
    "ds_cera = xr.open_dataset('../data/'+FILENAME)"
   ]
  },
  {
   "cell_type": "code",
   "execution_count": null,
   "metadata": {},
   "outputs": [],
   "source": [
    "ds_cera"
   ]
  },
  {
   "cell_type": "code",
   "execution_count": null,
   "metadata": {},
   "outputs": [],
   "source": [
    "df_cera = ds_cera.to_dataframe()\n",
    "print(df_cera.shape)\n",
    "df_cera.sample(20)"
   ]
  },
  {
   "cell_type": "markdown",
   "metadata": {},
   "source": [
    "### Compute a single value for a specific meteorological parameter, by avagering all 10 ensemble members"
   ]
  },
  {
   "cell_type": "code",
   "execution_count": null,
   "metadata": {},
   "outputs": [],
   "source": [
    "df_cera = ds_cera.mean(dim='number')\n",
    "df_cera"
   ]
  },
  {
   "cell_type": "markdown",
   "metadata": {},
   "source": [
    "### Compute temperature in °C"
   ]
  },
  {
   "cell_type": "code",
   "execution_count": null,
   "metadata": {},
   "outputs": [],
   "source": [
    "print(df_cera.t2m.shape)\n",
    "df_cera.t2m"
   ]
  },
  {
   "cell_type": "code",
   "execution_count": null,
   "metadata": {},
   "outputs": [],
   "source": [
    "df_cera['t2m'] = df_cera.t2m - 273.15\n",
    "df_cera"
   ]
  },
  {
   "cell_type": "code",
   "execution_count": null,
   "metadata": {},
   "outputs": [],
   "source": [
    "df_cera.t2m.plot();"
   ]
  },
  {
   "cell_type": "code",
   "execution_count": null,
   "metadata": {},
   "outputs": [],
   "source": [
    "df_cera.t2m[0].plot();"
   ]
  },
  {
   "cell_type": "markdown",
   "metadata": {},
   "source": [
    "#### Nicer plotting using cartopy"
   ]
  },
  {
   "cell_type": "markdown",
   "metadata": {},
   "source": [
    "_Feel free to experiment with different map projections provided by the cartopy library (see [here](http://scitools.org.uk/cartopy/docs/v0.15/crs/projections.html) for a list of featured projections)_"
   ]
  },
  {
   "cell_type": "code",
   "execution_count": null,
   "metadata": {},
   "outputs": [],
   "source": [
    "def cuteplot(ds, var, idx=0): \n",
    "    '''\n",
    "    Function to plot xarray data set on different map projections\n",
    "    '''\n",
    "    ax = plt.axes(projection=ccrs.Mollweide())    \n",
    "    ds[var][idx].plot.pcolormesh(ax=ax, transform=ccrs.PlateCarree(),\n",
    "                                x='longitude', y='latitude', add_colorbar=True)\n",
    "    ax.coastlines(resolution='50m')\n",
    "    ax.gridlines()\n",
    "    plt.tight_layout();\n",
    "    \n",
    "cuteplot(df_cera, 't2m', idx=0)"
   ]
  },
  {
   "cell_type": "markdown",
   "metadata": {},
   "source": [
    "### Compute average for the period 1951-1980"
   ]
  },
  {
   "cell_type": "code",
   "execution_count": null,
   "metadata": {},
   "outputs": [],
   "source": [
    "df_cera_reference_period = df_cera.sel(time=slice('1951', '1980'))\n",
    "df_cera_reference_period"
   ]
  },
  {
   "cell_type": "code",
   "execution_count": null,
   "metadata": {},
   "outputs": [],
   "source": [
    "df_cera_reference_period_mean = df_cera_reference_period.mean(dim='time')\n",
    "df_cera_reference_period_mean"
   ]
  },
  {
   "cell_type": "code",
   "execution_count": null,
   "metadata": {},
   "outputs": [],
   "source": [
    "df_cera_reference_period_mean.t2m.plot();"
   ]
  },
  {
   "cell_type": "markdown",
   "metadata": {},
   "source": [
    "### Compute temperature anomaly for 10 year rolling window"
   ]
  },
  {
   "cell_type": "code",
   "execution_count": null,
   "metadata": {},
   "outputs": [],
   "source": [
    "df_cera_anomaly = df_cera.copy()\n",
    "df_cera_anomaly['t2m'] = df_cera.t2m - df_cera_reference_period_mean.t2m"
   ]
  },
  {
   "cell_type": "code",
   "execution_count": null,
   "metadata": {},
   "outputs": [],
   "source": [
    "w # 10 years on monthly scale"
   ]
  },
  {
   "cell_type": "code",
   "execution_count": null,
   "metadata": {},
   "outputs": [],
   "source": [
    "df_cera_anomaly_10y = df_cera_anomaly.rolling(time=w, center=True).mean()\n",
    "df_cera_anomaly_10y "
   ]
  },
  {
   "cell_type": "code",
   "execution_count": null,
   "metadata": {},
   "outputs": [],
   "source": [
    "#df_cera_anomaly_10y.t2m[60].plot();\n",
    "cuteplot(df_cera_anomaly_10y,'t2m',idx=60)"
   ]
  },
  {
   "cell_type": "markdown",
   "metadata": {},
   "source": [
    "### Find coordinates of Telegrafenberg, Potsdam"
   ]
  },
  {
   "cell_type": "code",
   "execution_count": null,
   "metadata": {},
   "outputs": [],
   "source": [
    "import geopandas as gpd"
   ]
  },
  {
   "cell_type": "code",
   "execution_count": null,
   "metadata": {},
   "outputs": [],
   "source": [
    "pik = gpd.tools.geocode('Telegrafenberg 14473 Potsdam')\n",
    "pik"
   ]
  },
  {
   "cell_type": "code",
   "execution_count": null,
   "metadata": {},
   "outputs": [],
   "source": [
    "X = pik.geometry.x.values[0]\n",
    "Y = pik.geometry.y.values[0]\n",
    "print(X,Y)"
   ]
  },
  {
   "cell_type": "markdown",
   "metadata": {},
   "source": [
    "#### Sanity check of coordinates"
   ]
  },
  {
   "cell_type": "code",
   "execution_count": null,
   "metadata": {},
   "outputs": [],
   "source": [
    "import folium"
   ]
  },
  {
   "cell_type": "code",
   "execution_count": null,
   "metadata": {},
   "outputs": [],
   "source": [
    "m = folium.Map(location=[Y, X], zoom_start=5, min_zoom=2)\n",
    "folium.Marker([Y, X], popup='GFZ').add_to(m)\n",
    "folium.TileLayer('stamentoner', min_zoom=2).add_to(m)\n",
    "folium.LayerControl().add_to(m)\n",
    "m"
   ]
  },
  {
   "cell_type": "markdown",
   "metadata": {},
   "source": [
    "### Use PIKcoordinates to extract data from CERA dataset"
   ]
  },
  {
   "cell_type": "code",
   "execution_count": null,
   "metadata": {},
   "outputs": [],
   "source": [
    "df_cera_anomaly_10y"
   ]
  },
  {
   "cell_type": "code",
   "execution_count": null,
   "metadata": {},
   "outputs": [],
   "source": [
    "print(X,Y)"
   ]
  },
  {
   "cell_type": "code",
   "execution_count": null,
   "metadata": {},
   "outputs": [],
   "source": [
    "gfz_anomaly = df_cera_anomaly_10y.sel(latitude=[Y], longitude=[X], method='Nearest')\n",
    "gfz_anomaly"
   ]
  },
  {
   "cell_type": "code",
   "execution_count": null,
   "metadata": {},
   "outputs": [],
   "source": [
    "gfz_anomaly.t2m.plot();"
   ]
  },
  {
   "cell_type": "markdown",
   "metadata": {},
   "source": [
    "### Continue with pandas ..."
   ]
  },
  {
   "cell_type": "code",
   "execution_count": null,
   "metadata": {},
   "outputs": [],
   "source": [
    "df_gfz_anomaly = gfz_anomaly.to_dataframe()\n",
    "df_gfz_anomaly.head(10)"
   ]
  },
  {
   "cell_type": "code",
   "execution_count": null,
   "metadata": {},
   "outputs": [],
   "source": [
    "# Clean up\n",
    "df_gfz_anomaly = (df_gfz_anomaly.reset_index().\n",
    "                  drop(['longitude', 'latitude'], axis=1).\n",
    "                  set_index('time').dropna())\n",
    "df_gfz_anomaly.index = df_gfz_anomaly.index.to_period('M')\n",
    "df_gfz_anomaly.sample(10)"
   ]
  },
  {
   "cell_type": "markdown",
   "metadata": {},
   "source": [
    "## Combine data sets"
   ]
  },
  {
   "cell_type": "markdown",
   "metadata": {},
   "source": [
    "**Recall**  \n",
    "* Global temperatur anomaly data set: `df_glob_anomaly`   \n",
    "* Potsdam temperatur anomaly data set: `df_gfz_anomaly`"
   ]
  },
  {
   "cell_type": "markdown",
   "metadata": {},
   "source": [
    "### Merge data on index"
   ]
  },
  {
   "cell_type": "code",
   "execution_count": null,
   "metadata": {},
   "outputs": [],
   "source": [
    "df_glob_anomaly.index"
   ]
  },
  {
   "cell_type": "code",
   "execution_count": null,
   "metadata": {},
   "outputs": [],
   "source": [
    "df_gfz_anomaly.index"
   ]
  },
  {
   "cell_type": "code",
   "execution_count": null,
   "metadata": {},
   "outputs": [],
   "source": [
    "df_gfz_anomaly['glob_anomaly'] = df_glob_anomaly\n",
    "df_gfz_anomaly.head()"
   ]
  },
  {
   "cell_type": "markdown",
   "metadata": {},
   "source": [
    "### Final Plot"
   ]
  },
  {
   "cell_type": "code",
   "execution_count": null,
   "metadata": {},
   "outputs": [],
   "source": [
    "df_gfz_anomaly.plot()\n",
    "plt.ylabel('Temperature anomaly')\n",
    "plt.title('Global and Local Temperature Anomaly relative \\nto the 1951-1980 Average (10-Year Rolling Window)', \n",
    "          size=18)\n",
    "plt.legend(['Local Scale (ECMWF CERA-20C)',\n",
    "            'Global Scale (Berkely Earth Data Set)']);"
   ]
  },
  {
   "cell_type": "markdown",
   "metadata": {
    "collapsed": true
   },
   "source": [
    "***\n",
    "**Conclusion:** The analysis of the gridded data set ECMWF CERA-20C, indicates that the earth surface temperature rise at Potsdam, Germany is in accordance with the global trend. "
   ]
  }
 ],
 "metadata": {
  "hide_input": false,
  "kernelspec": {
   "display_name": "Python 3",
   "language": "python",
   "name": "python3"
  },
  "language_info": {
   "codemirror_mode": {
    "name": "ipython",
    "version": 3
   },
   "file_extension": ".py",
   "mimetype": "text/x-python",
   "name": "python",
   "nbconvert_exporter": "python",
   "pygments_lexer": "ipython3",
   "version": "3.5.4"
  }
 },
 "nbformat": 4,
 "nbformat_minor": 2
}
