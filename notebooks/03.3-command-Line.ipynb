{
 "cells": [
  {
   "cell_type": "markdown",
   "metadata": {},
   "source": [
    "# Command-Line Programms\n",
    "The **Jupyter Notebook and other interactive tools are great for prototyping code and exploring data**. But sooner or later we will want to use our program in a pipeline to process thousands of data files. In order to do that, we need to make our programs work like other Unix command-line tools.\n"
   ]
  },
  {
   "cell_type": "markdown",
   "metadata": {},
   "source": [
    "## Switching to Shell Commands\n",
    "\n",
    "In this lesson we are switching from typing commands in a Python interpreter to typing commands in a shell terminal window (such as bash). When you see a `$` in front of a command that tells you to run that command in the shell rather than the Python interpreter."
   ]
  },
  {
   "cell_type": "code",
   "execution_count": 8,
   "metadata": {},
   "outputs": [
    {
     "name": "stdout",
     "output_type": "stream",
     "text": [
      "My command-line arguments: ['/usr/local/lib/python3.6/dist-packages/ipykernel_launcher.py', '-f', '/run/user/17802/jupyter/kernel-c828dcaa-1827-45c0-879c-975513e66be6.json']\n"
     ]
    }
   ],
   "source": [
    "# %load ../src/pycli-1.py\n",
    "#!/usr/bin/env python3\n",
    "# valid for UNIX system\n",
    "import sys\n",
    "print('My command-line arguments:', sys.argv)\n"
   ]
  },
  {
   "cell_type": "markdown",
   "metadata": {},
   "source": [
    "The strange name `argv` stands for “argument values”. Whenever Python runs a program, it takes all of the values given on the command line and puts them in the list `sys.argv` so that the program can determine what they were.\n",
    "\n",
    "### Implementation of a call guardian\n",
    "\n",
    "This is useful if your code **also acts as an importable module**."
   ]
  },
  {
   "cell_type": "code",
   "execution_count": null,
   "metadata": {},
   "outputs": [],
   "source": []
  },
  {
   "cell_type": "markdown",
   "metadata": {},
   "source": [
    "When you import a Python file, `__name__` is the name of that file. However, when running a script in bash, `__name__` is always set to `'__main__'` in that script so that you can determine if the file is being imported or run as a script."
   ]
  },
  {
   "cell_type": "code",
   "execution_count": 12,
   "metadata": {},
   "outputs": [],
   "source": [
    "def main():\n",
    "    pass\n",
    "\n",
    "if __name__ == '__main__':\n",
    "    main()  # Or whatever function produces output"
   ]
  },
  {
   "cell_type": "markdown",
   "metadata": {},
   "source": [
    "## Command-Line Arguments\n",
    "We write a programm to **download data we generated yesterday** in Sebastian's session:"
   ]
  },
  {
   "cell_type": "code",
   "execution_count": null,
   "metadata": {},
   "outputs": [],
   "source": [
    "# %load ../src/pycli-3.py"
   ]
  },
  {
   "cell_type": "markdown",
   "metadata": {},
   "source": [
    "We start adding more functionality to our program"
   ]
  },
  {
   "cell_type": "code",
   "execution_count": 3,
   "metadata": {},
   "outputs": [],
   "source": [
    "# %load ../src/pycli-4.py"
   ]
  },
  {
   "cell_type": "markdown",
   "metadata": {},
   "source": [
    "but there are several things wrong with it:\n",
    "\n",
    "1. **`main` is too large to read comfortably.**\n",
    "\n",
    "2. If we do not specify at least two additional arguments on the command-line, one for the flag and one for the filename, but only one, the program will not throw an exception but will run. It assumes that the file list is empty, as `sys.argv[1]` will be considered the action, even if it is a filename. Silent failures like this are always hard to debug.\n",
    "\n",
    "3. The program should check if the submitted action is one of the three recognized flags."
   ]
  },
  {
   "cell_type": "code",
   "execution_count": 2,
   "metadata": {},
   "outputs": [],
   "source": [
    "# %load ../src/pycli-5.py"
   ]
  },
  {
   "cell_type": "markdown",
   "metadata": {},
   "source": [
    "# Excercise: Add automatic downloading\n",
    "If the file is not existing, download it automatically."
   ]
  },
  {
   "cell_type": "markdown",
   "metadata": {},
   "source": [
    "## `argparse`: The easier way\n",
    "Sometimes the command line arguments become an ugly mess. It's that and because it is boring, someone came up with a lazier solution: `import argparse`"
   ]
  },
  {
   "cell_type": "code",
   "execution_count": null,
   "metadata": {},
   "outputs": [],
   "source": [
    "# %load ../src/pycli-6.py"
   ]
  }
 ],
 "metadata": {
  "kernelspec": {
   "display_name": "Python 3",
   "language": "python",
   "name": "python3"
  },
  "language_info": {
   "codemirror_mode": {
    "name": "ipython",
    "version": 3
   },
   "file_extension": ".py",
   "mimetype": "text/x-python",
   "name": "python",
   "nbconvert_exporter": "python",
   "pygments_lexer": "ipython3",
   "version": "3.6.3"
  }
 },
 "nbformat": 4,
 "nbformat_minor": 2
}
